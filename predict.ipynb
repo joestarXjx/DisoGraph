{
 "cells": [
  {
   "cell_type": "code",
   "execution_count": 1,
   "id": "2f3e9094",
   "metadata": {},
   "outputs": [
    {
     "name": "stderr",
     "output_type": "stream",
     "text": [
      "/home/xie/anaconda3/envs/pytorch_env/lib/python3.8/site-packages/tqdm/auto.py:21: TqdmWarning: IProgress not found. Please update jupyter and ipywidgets. See https://ipywidgets.readthedocs.io/en/stable/user_install.html\n",
      "  from .autonotebook import tqdm as notebook_tqdm\n"
     ]
    }
   ],
   "source": [
    "from models import DisoGraph\n",
    "from layers import modify_with_lora, LoRAConfig\n",
    "from transformers import EsmModel, EsmTokenizer\n",
    "import torch"
   ]
  },
  {
   "cell_type": "code",
   "execution_count": 3,
   "id": "c58a0b97",
   "metadata": {},
   "outputs": [
    {
     "name": "stderr",
     "output_type": "stream",
     "text": [
      "Some weights of EsmModel were not initialized from the model checkpoint at facebook/esm2_t33_650M_UR50D and are newly initialized: ['esm.pooler.dense.bias', 'esm.pooler.dense.weight']\n",
      "You should probably TRAIN this model on a down-stream task to be able to use it for predictions and inference.\n",
      "/tmp/ipykernel_2814703/1385593998.py:18: FutureWarning: You are using `torch.load` with `weights_only=False` (the current default value), which uses the default pickle module implicitly. It is possible to construct malicious pickle data which will execute arbitrary code during unpickling (See https://github.com/pytorch/pytorch/blob/main/SECURITY.md#untrusted-models for more details). In a future release, the default value for `weights_only` will be flipped to `True`. This limits the functions that could be executed during unpickling. Arbitrary objects will no longer be allowed to be loaded via this mode unless they are explicitly allowlisted by the user via `torch.serialization.add_safe_globals`. We recommend you start setting `weights_only=True` for any use case where you don't have full control of the loaded file. Please open an issue on GitHub for any issues related to this experimental feature.\n",
      "  model.load_state_dict(torch.load(\"DisoGraph_LoRA_params.pth\"))\n"
     ]
    },
    {
     "data": {
      "text/plain": [
       "<All keys matched successfully>"
      ]
     },
     "execution_count": 3,
     "metadata": {},
     "output_type": "execute_result"
    }
   ],
   "source": [
    "# Load pre-trained ESM-2 model and tokenizer\n",
    "tokenizer = EsmTokenizer.from_pretrained(\"facebook/esm2_t33_650M_UR50D\")\n",
    "model = EsmModel.from_pretrained(\"facebook/esm2_t33_650M_UR50D\")\n",
    "\n",
    "class_model = DisoGraph(config=model.config)\n",
    "class_model.encoder = model\n",
    "model = class_model\n",
    "del class_model\n",
    "\n",
    "# Freeze ESM model parameters\n",
    "for (param_name, param) in model.encoder.named_parameters():\n",
    "    param.requires_grad = False\n",
    "\n",
    "# Add LoRA to the model\n",
    "config = LoRAConfig()\n",
    "model = modify_with_lora(model, config)\n",
    "\n",
    "model.load_state_dict(torch.load(\"DisoGraph_LoRA_params.pth\"))"
   ]
  },
  {
   "cell_type": "code",
   "execution_count": 10,
   "id": "4f87a7c6",
   "metadata": {},
   "outputs": [
    {
     "data": {
      "text/plain": [
       "[<matplotlib.lines.Line2D at 0x7f48c81abf70>]"
      ]
     },
     "execution_count": 10,
     "metadata": {},
     "output_type": "execute_result"
    },
    {
     "data": {
      "image/png": "[encoded data removed]",
      "text/plain": [
       "<Figure size 640x480 with 1 Axes>"
      ]
     },
     "metadata": {},
     "output_type": "display_data"
    }
   ],
   "source": [
    "'''\n",
    "    # Predict on a single sequence\n",
    "'''\n",
    "\n",
    "sequence = \"MVLRQLSRKASVKVSKTWSGTKKRAQRILIFLLEFLLDFCTGEDSVDGKKRQRHSGLTEQTYSALPEPKAT\"\n",
    "with torch.no_grad():\n",
    "    inputs = tokenizer(sequence, return_tensors=\"pt\")\n",
    "    outputs = model(**inputs)\n",
    "    probs = torch.softmax(outputs.logits, dim=-1)\n",
    "    predictions = torch.argmax(probs, dim=-1)\n",
    "\n",
    "import matplotlib.pyplot as plt\n",
    "import numpy as np\n",
    "\n",
    "plt.plot(np.array(probs[0][:,1].cpu()))"
   ]
  },
  {
   "cell_type": "code",
   "execution_count": 13,
   "id": "f51ec51c",
   "metadata": {},
   "outputs": [
    {
     "name": "stderr",
     "output_type": "stream",
     "text": [
      "100%|██████████| 154/154 [06:02<00:00,  2.36s/it]\n"
     ]
    },
    {
     "name": "stdout",
     "output_type": "stream",
     "text": [
      "Test-set performance:\n",
      "{'Accuracy': 0.9409676816738277, 'AUC': 0.923264949439509, 'Sn': 0.5500998553818608, 'Sp': 0.9820848380354898, 'BACC': 0.7660923467086753, 'MCC': 0.6179871643503184, 'F1': 0.6395004403170282, 'AUCPR': 0.7113644946135478}\n",
      "Confusion matrix:\n",
      "        0      1\n",
      "0  271133   4946\n",
      "1   13066  15976\n"
     ]
    }
   ],
   "source": [
    "''' \n",
    "    # Predic on multiple sequences in a fasta file \n",
    "'''\n",
    "\n",
    "from utils import read_fasta_to_dataframe, create_dataset, get_evaluate_results\n",
    "from transformers import DataCollatorForTokenClassification\n",
    "from torch.utils.data import DataLoader\n",
    "from tqdm import tqdm\n",
    "\n",
    "device = torch.device('cuda') if torch.cuda.is_available() else torch.device('cpu')\n",
    "model.eval()\n",
    "modle = model.to(device)\n",
    "data_collator = DataCollatorForTokenClassification(tokenizer)\n",
    "\n",
    "fasta_file = \"datasets/DM1229.fasta\"\n",
    "test_df = read_fasta_to_dataframe(fasta_file)\n",
    "test_set=create_dataset(tokenizer,list(test_df['sequence']),list(test_df['label']))\n",
    "test_dataloader = DataLoader(test_set, batch_size=8, shuffle = False, collate_fn = data_collator)\n",
    "predictions = []\n",
    "padded_labels = []\n",
    "scores = []\n",
    "with torch.no_grad():\n",
    "    for batch in tqdm(test_dataloader):\n",
    "        input_ids = batch['input_ids'].to(device)\n",
    "        attention_mask = batch['attention_mask'].to(device)\n",
    "        padded_labels += batch['labels'].tolist()\n",
    "        predictions += model(input_ids, attention_mask=attention_mask, labels=None).logits.argmax(dim=-1).tolist()\n",
    "        score = torch.softmax(model(input_ids, attention_mask=attention_mask, labels=None).logits, dim=-1)\n",
    "        scores += score[:,:,1].tolist()\n",
    "# to make it easier we flatten both the label and prediction lists\n",
    "def flatten(l):\n",
    "    return [item for sublist in l for item in sublist]\n",
    " # flatten and convert to np array for easy slicing in the next step\n",
    "predictions = np.array(flatten(predictions))\n",
    "scores = np.array(flatten(scores))\n",
    "padded_labels = np.array(flatten(padded_labels))\n",
    "# Filter out all invalid (label = -100) values\n",
    "predictions = predictions[padded_labels!=-100]\n",
    "scores = scores[padded_labels!=-100]\n",
    "padded_labels = padded_labels[padded_labels!=-100]\n",
    "\n",
    "# Calculate metirics\n",
    "results, confusion_matrix = get_evaluate_results(y_true=padded_labels, y_pred=scores, y_pred_classes=predictions)\n",
    "print('Test-set performance:')\n",
    "print(results)\n",
    "print('Confusion matrix:')\n",
    "print(confusion_matrix)"
   ]
  }
 ],
 "metadata": {
  "kernelspec": {
   "display_name": "pytorch_env",
   "language": "python",
   "name": "python3"
  },
  "language_info": {
   "codemirror_mode": {
    "name": "ipython",
    "version": 3
   },
   "file_extension": ".py",
   "mimetype": "text/x-python",
   "name": "python",
   "nbconvert_exporter": "python",
   "pygments_lexer": "ipython3",
   "version": "3.8.20"
  }
 },
 "nbformat": 4,
 "nbformat_minor": 5
}
